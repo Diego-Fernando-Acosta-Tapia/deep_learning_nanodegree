{
  "nbformat": 4,
  "nbformat_minor": 0,
  "metadata": {
    "colab": {
      "name": "Convolutional_Autoencoder.ipynb",
      "version": "0.3.2",
      "provenance": [],
      "collapsed_sections": []
    },
    "kernelspec": {
      "display_name": "Python 3",
      "language": "python",
      "name": "python3"
    }
  },
  "cells": [
    {
      "metadata": {
        "id": "RrKMw33ly_BZ",
        "colab_type": "text"
      },
      "cell_type": "markdown",
      "source": [
        "# Convolutional Autoencoder\n",
        "\n",
        "Sticking with the MNIST dataset, let's improve our autoencoder's performance using convolutional layers. Again, loading modules and the data."
      ]
    },
    {
      "metadata": {
        "id": "liLJsky-y_Bd",
        "colab_type": "code",
        "colab": {}
      },
      "cell_type": "code",
      "source": [
        "%matplotlib inline\n",
        "\n",
        "import numpy as np\n",
        "import tensorflow as tf\n",
        "import matplotlib.pyplot as plt"
      ],
      "execution_count": 0,
      "outputs": []
    },
    {
      "metadata": {
        "id": "KgpT6DzSy_Bs",
        "colab_type": "code",
        "outputId": "04a2f7c7-2bf6-4d58-e0f0-bfd33b1e6637",
        "colab": {
          "base_uri": "https://localhost:8080/",
          "height": 360
        }
      },
      "cell_type": "code",
      "source": [
        "from tensorflow.examples.tutorials.mnist import input_data\n",
        "mnist = input_data.read_data_sets('MNIST_data', validation_size=0)"
      ],
      "execution_count": 2,
      "outputs": [
        {
          "output_type": "stream",
          "text": [
            "WARNING:tensorflow:From <ipython-input-2-8c515496db61>:2: read_data_sets (from tensorflow.contrib.learn.python.learn.datasets.mnist) is deprecated and will be removed in a future version.\n",
            "Instructions for updating:\n",
            "Please use alternatives such as official/mnist/dataset.py from tensorflow/models.\n",
            "WARNING:tensorflow:From /usr/local/lib/python3.6/dist-packages/tensorflow/contrib/learn/python/learn/datasets/mnist.py:260: maybe_download (from tensorflow.contrib.learn.python.learn.datasets.base) is deprecated and will be removed in a future version.\n",
            "Instructions for updating:\n",
            "Please write your own downloading logic.\n",
            "WARNING:tensorflow:From /usr/local/lib/python3.6/dist-packages/tensorflow/contrib/learn/python/learn/datasets/mnist.py:262: extract_images (from tensorflow.contrib.learn.python.learn.datasets.mnist) is deprecated and will be removed in a future version.\n",
            "Instructions for updating:\n",
            "Please use tf.data to implement this functionality.\n",
            "Extracting MNIST_data/train-images-idx3-ubyte.gz\n",
            "WARNING:tensorflow:From /usr/local/lib/python3.6/dist-packages/tensorflow/contrib/learn/python/learn/datasets/mnist.py:267: extract_labels (from tensorflow.contrib.learn.python.learn.datasets.mnist) is deprecated and will be removed in a future version.\n",
            "Instructions for updating:\n",
            "Please use tf.data to implement this functionality.\n",
            "Extracting MNIST_data/train-labels-idx1-ubyte.gz\n",
            "Extracting MNIST_data/t10k-images-idx3-ubyte.gz\n",
            "Extracting MNIST_data/t10k-labels-idx1-ubyte.gz\n",
            "WARNING:tensorflow:From /usr/local/lib/python3.6/dist-packages/tensorflow/contrib/learn/python/learn/datasets/mnist.py:290: DataSet.__init__ (from tensorflow.contrib.learn.python.learn.datasets.mnist) is deprecated and will be removed in a future version.\n",
            "Instructions for updating:\n",
            "Please use alternatives such as official/mnist/dataset.py from tensorflow/models.\n"
          ],
          "name": "stdout"
        }
      ]
    },
    {
      "metadata": {
        "id": "EBG9TUcfy_CB",
        "colab_type": "code",
        "outputId": "c9fdb870-db9c-43a3-8d73-342c17b96c78",
        "colab": {
          "base_uri": "https://localhost:8080/",
          "height": 282
        }
      },
      "cell_type": "code",
      "source": [
        "img = mnist.train.images[2]\n",
        "plt.imshow(img.reshape((28, 28)), cmap='Greys_r')"
      ],
      "execution_count": 3,
      "outputs": [
        {
          "output_type": "execute_result",
          "data": {
            "text/plain": [
              "<matplotlib.image.AxesImage at 0x7f474c22c7b8>"
            ]
          },
          "metadata": {
            "tags": []
          },
          "execution_count": 3
        },
        {
          "output_type": "display_data",
          "data": {
            "image/png": "[encoded data removed]",
            "text/plain": [
              "<matplotlib.figure.Figure at 0x7f474ca99128>"
            ]
          },
          "metadata": {
            "tags": []
          }
        }
      ]
    },
    {
      "metadata": {
        "id": "NK-kLKpEy_CO",
        "colab_type": "text"
      },
      "cell_type": "markdown",
      "source": [
        "## Network Architecture\n",
        "\n",
        "The encoder part of the network will be a typical convolutional pyramid. Each convolutional layer will be followed by a max-pooling layer to reduce the dimensions of the layers. The decoder though might be something new to you. The decoder needs to convert from a narrow representation to a wide reconstructed image. For example, the representation could be a 4x4x8 max-pool layer. This is the output of the encoder, but also the input to the decoder. We want to get a 28x28x1 image out from the decoder so we need to work our way back up from the narrow decoder input layer. A schematic of the network is shown below.\n",
        "\n",
        "<img src='assets/convolutional_autoencoder.png' width=500px>\n",
        "\n",
        "Here our final encoder layer has size 4x4x8 = 128. The original images have size 28x28 = 784, so the encoded vector is roughly 16% the size of the original image. These are just suggested sizes for each of the layers. Feel free to change the depths and sizes, but remember our goal here is to find a small representation of the input data.\n",
        "\n",
        "### What's going on with the decoder\n",
        "\n",
        "Okay, so the decoder has these \"Upsample\" layers that you might not have seen before. First off, I'll discuss a bit what these layers *aren't*. Usually, you'll see **transposed convolution** layers used to increase the width and height of the layers. They work almost exactly the same as convolutional layers, but in reverse. A stride in the input layer results in a larger stride in the transposed convolution layer. For example, if you have a 3x3 kernel, a 3x3 patch in the input layer will be reduced to one unit in a convolutional layer. Comparatively, one unit in the input layer will be expanded to a 3x3 path in a transposed convolution layer. The TensorFlow API provides us with an easy way to create the layers, [`tf.nn.conv2d_transpose`](https://www.tensorflow.org/api_docs/python/tf/nn/conv2d_transpose). \n",
        "\n",
        "However, transposed convolution layers can lead to artifacts in the final images, such as checkerboard patterns. This is due to overlap in the kernels which can be avoided by setting the stride and kernel size equal. In [this Distill article](http://distill.pub/2016/deconv-checkerboard/) from Augustus Odena, *et al*, the authors show that these checkerboard artifacts can be avoided by resizing the layers using nearest neighbor or bilinear interpolation (upsampling) followed by a convolutional layer. In TensorFlow, this is easily done with [`tf.image.resize_images`](https://www.tensorflow.org/versions/r1.1/api_docs/python/tf/image/resize_images), followed by a convolution. Be sure to read the Distill article to get a better understanding of deconvolutional layers and why we're using upsampling.\n",
        "\n",
        "> **Exercise:** Build the network shown above. Remember that a convolutional layer with strides of 1 and 'same' padding won't reduce the height and width. That is, if the input is 28x28 and the convolution layer has stride = 1 and 'same' padding, the convolutional layer will also be 28x28. The max-pool layers are used the reduce the width and height. A stride of 2 will reduce the size by a factor of 2. Odena *et al* claim that nearest neighbor interpolation works best for the upsampling, so make sure to include that as a parameter in `tf.image.resize_images` or use [`tf.image.resize_nearest_neighbor`]( `https://www.tensorflow.org/api_docs/python/tf/image/resize_nearest_neighbor). For convolutional layers, use [`tf.layers.conv2d`](https://www.tensorflow.org/api_docs/python/tf/layers/conv2d). For example, you would write `conv1 = tf.layers.conv2d(inputs, 32, (5,5), padding='same', activation=tf.nn.relu)` for a layer with a depth of 32, a 5x5 kernel, stride of (1,1), padding is 'same', and a ReLU activation. Similarly, for the max-pool layers, use [`tf.layers.max_pooling2d`](https://www.tensorflow.org/api_docs/python/tf/layers/max_pooling2d)."
      ]
    },
    {
      "metadata": {
        "id": "n3GgmOK_y_CR",
        "colab_type": "code",
        "colab": {}
      },
      "cell_type": "code",
      "source": [
        "learning_rate = 0.001\n",
        "# Input and target placeholders\n",
        "inputs_ = tf.placeholder(tf.float32, (None, 28, 28, 1), name='inputs')\n",
        "targets_ = tf.placeholder(tf.float32, (None, 28, 28, 1), name='targets')\n",
        "\n",
        "### Encoder\n",
        "conv1 = tf.layers.conv2d(inputs_, 16, (3,3), padding='same', activation=tf.nn.relu)\n",
        "# Now 28x28x16\n",
        "maxpool1 = tf.layers.max_pooling2d(conv1, (2,2), (2,2), padding='same')\n",
        "# Now 14x14x16\n",
        "conv2 = tf.layers.conv2d(maxpool1, 8, (3,3), padding='same', activation=tf.nn.relu)\n",
        "# Now 14x14x8\n",
        "maxpool2 = tf.layers.max_pooling2d(conv2, (2,2), (2,2), padding='same')\n",
        "# Now 7x7x8\n",
        "conv3 = tf.layers.conv2d(maxpool2, 8, (3,3), padding='same', activation=tf.nn.relu)\n",
        "# Now 7x7x8\n",
        "encoded = tf.layers.max_pooling2d(conv3, (2,2), (2,2), padding='same')\n",
        "# Now 4x4x8\n",
        "\n",
        "### Decoder\n",
        "upsample1 = tf.image.resize_nearest_neighbor(encoded, (7,7))\n",
        "# Now 7x7x8\n",
        "conv4 = tf.layers.conv2d(upsample1, 8, (3,3), padding='same', activation=tf.nn.relu)\n",
        "# Now 7x7x8\n",
        "upsample2 = tf.image.resize_nearest_neighbor(conv4, (14,14))\n",
        "# Now 14x14x8\n",
        "conv5 = tf.layers.conv2d(upsample2, 8, (3,3), padding='same', activation=tf.nn.relu)\n",
        "# Now 14x14x8\n",
        "upsample3 = tf.image.resize_nearest_neighbor(conv5, (28,28))\n",
        "# Now 28x28x8\n",
        "conv6 = tf.layers.conv2d(upsample3, 16, (3,3), padding='same', activation=tf.nn.relu)\n",
        "# Now 28x28x16\n",
        "\n",
        "logits = tf.layers.conv2d(conv6, 1, (3,3), padding='same', activation=None)\n",
        "#Now 28x28x1\n",
        "\n",
        "decoded = tf.nn.sigmoid(logits, name='decoded')\n",
        "\n",
        "loss = tf.nn.sigmoid_cross_entropy_with_logits(labels=targets_, logits=logits)\n",
        "\n",
        "# Get cost and define the optimizer\n",
        "cost = tf.reduce_mean(loss)\n",
        "opt = tf.train.AdamOptimizer(learning_rate).minimize(cost)"
      ],
      "execution_count": 0,
      "outputs": []
    },
    {
      "metadata": {
        "id": "jxbZZkZiy_Cc",
        "colab_type": "text"
      },
      "cell_type": "markdown",
      "source": [
        "## Training\n",
        "\n",
        "As before, here we'll train the network. Instead of flattening the images though, we can pass them in as 28x28x1 arrays."
      ]
    },
    {
      "metadata": {
        "id": "LoD2RRbTy_Cg",
        "colab_type": "code",
        "colab": {}
      },
      "cell_type": "code",
      "source": [
        "sess = tf.Session()"
      ],
      "execution_count": 0,
      "outputs": []
    },
    {
      "metadata": {
        "scrolled": true,
        "id": "id-oiCo9y_Cp",
        "colab_type": "code",
        "colab": {}
      },
      "cell_type": "code",
      "source": [
        "epochs = 20\n",
        "batch_size = 200\n",
        "sess.run(tf.global_variables_initializer())\n",
        "for e in range(epochs):\n",
        "    for ii in range(mnist.train.num_examples//batch_size):\n",
        "        batch = mnist.train.next_batch(batch_size)\n",
        "        imgs = batch[0].reshape((-1, 28, 28, 1))\n",
        "        batch_cost, _ = sess.run([cost, opt], feed_dict={inputs_: imgs,\n",
        "                                                         targets_: imgs})\n",
        "\n",
        "        print(\"Epoch: {}/{}...\".format(e+1, epochs),\n",
        "              \"Training loss: {:.4f}\".format(batch_cost))"
      ],
      "execution_count": 0,
      "outputs": []
    },
    {
      "metadata": {
        "id": "WT7_TYUjy_C0",
        "colab_type": "code",
        "colab": {}
      },
      "cell_type": "code",
      "source": [
        "fig, axes = plt.subplots(nrows=2, ncols=10, sharex=True, sharey=True, figsize=(20,4))\n",
        "in_imgs = mnist.test.images[:10]\n",
        "reconstructed = sess.run(decoded, feed_dict={inputs_: in_imgs.reshape((10, 28, 28, 1))})\n",
        "\n",
        "for images, row in zip([in_imgs, reconstructed], axes):\n",
        "    for img, ax in zip(images, row):\n",
        "        ax.imshow(img.reshape((28, 28)), cmap='Greys_r')\n",
        "        ax.get_xaxis().set_visible(False)\n",
        "        ax.get_yaxis().set_visible(False)\n",
        "\n",
        "\n",
        "fig.tight_layout(pad=0.1)"
      ],
      "execution_count": 0,
      "outputs": []
    },
    {
      "metadata": {
        "id": "0eQPg3QDy_DB",
        "colab_type": "code",
        "colab": {}
      },
      "cell_type": "code",
      "source": [
        "sess.close()"
      ],
      "execution_count": 0,
      "outputs": []
    },
    {
      "metadata": {
        "id": "Ev7zurzFy_DL",
        "colab_type": "text"
      },
      "cell_type": "markdown",
      "source": [
        "## Denoising\n",
        "\n",
        "As I've mentioned before, autoencoders like the ones you've built so far aren't too useful in practive. However, they can be used to denoise images quite successfully just by training the network on noisy images. We can create the noisy images ourselves by adding Gaussian noise to the training images, then clipping the values to be between 0 and 1. We'll use noisy images as input and the original, clean images as targets. Here's an example of the noisy images I generated and the denoised images.\n",
        "\n",
        "![Denoising autoencoder](assets/denoising.png)\n",
        "\n",
        "\n",
        "Since this is a harder problem for the network, we'll want to use deeper convolutional layers here, more feature maps. I suggest something like 32-32-16 for the depths of the convolutional layers in the encoder, and the same depths going backward through the decoder. Otherwise the architecture is the same as before.\n",
        "\n",
        "> **Exercise:** Build the network for the denoising autoencoder. It's the same as before, but with deeper layers. I suggest 32-32-16 for the depths, but you can play with these numbers, or add more layers."
      ]
    },
    {
      "metadata": {
        "id": "uzucJvwcy_DT",
        "colab_type": "code",
        "colab": {}
      },
      "cell_type": "code",
      "source": [
        "learning_rate = 0.001\n",
        "inputs_ = tf.placeholder(tf.float32, (None, 28, 28, 1), name='inputs')\n",
        "targets_ = tf.placeholder(tf.float32, (None, 28, 28, 1), name='targets')\n",
        "\n",
        "### Encoder\n",
        "conv1 = tf.layers.conv2d(inputs_, 32, (3,3), padding='same', activation=tf.nn.relu)\n",
        "# Now 28x28x32\n",
        "maxpool1 = tf.layers.max_pooling2d(conv1, (2,2), (2,2), padding='same')\n",
        "# Now 14x14x32\n",
        "conv2 = tf.layers.conv2d(maxpool1, 32, (3,3), padding='same', activation=tf.nn.relu)\n",
        "# Now 14x14x32\n",
        "maxpool2 = tf.layers.max_pooling2d(conv2, (2,2), (2,2), padding='same')\n",
        "# Now 7x7x32\n",
        "conv3 = tf.layers.conv2d(maxpool2, 16, (3,3), padding='same', activation=tf.nn.relu)\n",
        "# Now 7x7x16\n",
        "encoded = tf.layers.max_pooling2d(conv3, (2,2), (2,2), padding='same')\n",
        "# Now 4x4x16\n",
        "\n",
        "### Decoder\n",
        "upsample1 = tf.image.resize_nearest_neighbor(encoded, (7,7))\n",
        "# Now 7x7x16\n",
        "conv4 = tf.layers.conv2d(upsample1, 16, (3,3), padding='same', activation=tf.nn.relu)\n",
        "# Now 7x7x16\n",
        "upsample2 = tf.image.resize_nearest_neighbor(conv4, (14,14))\n",
        "# Now 14x14x16\n",
        "conv5 = tf.layers.conv2d(upsample2, 32, (3,3), padding='same', activation=tf.nn.relu)\n",
        "# Now 14x14x32\n",
        "upsample3 = tf.image.resize_nearest_neighbor(conv5, (28,28))\n",
        "# Now 28x28x32\n",
        "conv6 = tf.layers.conv2d(upsample3, 32, (3,3), padding='same', activation=tf.nn.relu)\n",
        "# Now 28x28x32\n",
        "\n",
        "logits = tf.layers.conv2d(conv6, 1, (3,3), padding='same', activation=None)\n",
        "#Now 28x28x1\n",
        "\n",
        "decoded = tf.nn.sigmoid(logits, name='decoded')\n",
        "\n",
        "loss = tf.nn.sigmoid_cross_entropy_with_logits(labels=targets_, logits=logits)\n",
        "\n",
        "# Get cost and define the optimizer\n",
        "cost = tf.reduce_mean(loss)\n",
        "opt = tf.train.AdamOptimizer(learning_rate).minimize(cost)"
      ],
      "execution_count": 0,
      "outputs": []
    },
    {
      "metadata": {
        "id": "iSTq7Mr7y_Dc",
        "colab_type": "code",
        "colab": {}
      },
      "cell_type": "code",
      "source": [
        "sess = tf.Session()"
      ],
      "execution_count": 0,
      "outputs": []
    },
    {
      "metadata": {
        "id": "6ojTXJjzy_Dp",
        "colab_type": "code",
        "colab": {}
      },
      "cell_type": "code",
      "source": [
        "epochs = 100\n",
        "batch_size = 200\n",
        "# Set's how much noise we're adding to the MNIST images\n",
        "noise_factor = 0.5\n",
        "sess.run(tf.global_variables_initializer())\n",
        "for e in range(epochs):\n",
        "    for ii in range(mnist.train.num_examples//batch_size):\n",
        "        batch = mnist.train.next_batch(batch_size)\n",
        "        # Get images from the batch\n",
        "        imgs = batch[0].reshape((-1, 28, 28, 1))\n",
        "        \n",
        "        # Add random noise to the input images\n",
        "        noisy_imgs = imgs + noise_factor * np.random.randn(*imgs.shape)\n",
        "        # Clip the images to be between 0 and 1\n",
        "        noisy_imgs = np.clip(noisy_imgs, 0., 1.)\n",
        "        \n",
        "        # Noisy images as inputs, original images as targets\n",
        "        batch_cost, _ = sess.run([cost, opt], feed_dict={inputs_: noisy_imgs,\n",
        "                                                         targets_: imgs})\n",
        "\n",
        "        print(\"Epoch: {}/{}...\".format(e+1, epochs),\n",
        "              \"Training loss: {:.4f}\".format(batch_cost))"
      ],
      "execution_count": 0,
      "outputs": []
    },
    {
      "metadata": {
        "id": "8m7VNfPcy_D1",
        "colab_type": "text"
      },
      "cell_type": "markdown",
      "source": [
        "## Checking out the performance\n",
        "\n",
        "Here I'm adding noise to the test images and passing them through the autoencoder. It does a suprisingly great job of removing the noise, even though it's sometimes difficult to tell what the original number is."
      ]
    },
    {
      "metadata": {
        "id": "tgCD_MBky_D4",
        "colab_type": "code",
        "colab": {}
      },
      "cell_type": "code",
      "source": [
        "fig, axes = plt.subplots(nrows=2, ncols=10, sharex=True, sharey=True, figsize=(20,4))\n",
        "in_imgs = mnist.test.images[:10]\n",
        "noisy_imgs = in_imgs + noise_factor * np.random.randn(*in_imgs.shape)\n",
        "noisy_imgs = np.clip(noisy_imgs, 0., 1.)\n",
        "\n",
        "reconstructed = sess.run(decoded, feed_dict={inputs_: noisy_imgs.reshape((10, 28, 28, 1))})\n",
        "\n",
        "for images, row in zip([noisy_imgs, reconstructed], axes):\n",
        "    for img, ax in zip(images, row):\n",
        "        ax.imshow(img.reshape((28, 28)), cmap='Greys_r')\n",
        "        ax.get_xaxis().set_visible(False)\n",
        "        ax.get_yaxis().set_visible(False)\n",
        "\n",
        "fig.tight_layout(pad=0.1)"
      ],
      "execution_count": 0,
      "outputs": []
    }
  ]
}