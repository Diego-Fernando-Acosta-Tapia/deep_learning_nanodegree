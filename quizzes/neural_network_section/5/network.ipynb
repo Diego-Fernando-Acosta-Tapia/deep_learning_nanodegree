{
  "nbformat": 4,
  "nbformat_minor": 0,
  "metadata": {
    "colab": {
      "name": "network.ipynb",
      "version": "0.3.2",
      "provenance": []
    },
    "kernelspec": {
      "name": "python3",
      "display_name": "Python 3"
    }
  },
  "cells": [
    {
      "metadata": {
        "id": "SbAD2Pthbfnh",
        "colab_type": "code",
        "outputId": "b7567818-7fbe-4f91-827a-23f971f2f1e8",
        "colab": {
          "base_uri": "https://localhost:8080/",
          "height": 442
        }
      },
      "cell_type": "code",
      "source": [
        "import numpy as np\n",
        "from keras.utils import np_utils\n",
        "import tensorflow as tf\n",
        "# Using TensorFlow 1.0.0; use tf.python_io in later versions\n",
        "tf.python_io.control_flow_ops = tf\n",
        "\n",
        "# Set random seed\n",
        "np.random.seed(42)\n",
        "\n",
        "# Our data\n",
        "X = np.array([[0,0],[0,1],[1,0],[1,1]]).astype('float32')\n",
        "y = np.array([[0],[1],[1],[0]]).astype('float32')\n",
        "\n",
        "# Initial Setup for Keras\n",
        "from keras.models import Sequential\n",
        "from keras.layers.core import Dense, Activation\n",
        "# One-hot encoding the output\n",
        "y = np_utils.to_categorical(y)\n",
        "\n",
        "# Building the model\n",
        "xor = Sequential()\n",
        "\n",
        "# Add required layers\n",
        "xor.add(Dense(8, input_dim=X.shape[1]))\n",
        "xor.add(Activation(\"tanh\"))\n",
        "xor.add(Dense(2))\n",
        "xor.add(Activation(\"sigmoid\"))\n",
        "\n",
        "# Specify loss as \"binary_crossentropy\", optimizer as \"adam\",\n",
        "# and add the accuracy metric\n",
        "xor.compile(loss=\"binary_crossentropy\", optimizer=\"adam\", metrics=[\"accuracy\"])\n",
        "\n",
        "# Uncomment this line to print the model architecture\n",
        "xor.summary()\n",
        "\n",
        "# Fitting the model\n",
        "history = xor.fit(X, y, nb_epoch=50, verbose=0)\n",
        "\n",
        "# Scoring the model\n",
        "score = xor.evaluate(X, y)\n",
        "print(\"\\nAccuracy: \", score[-1])\n",
        "\n",
        "# Checking the predictions\n",
        "print(\"\\nPredictions:\")\n",
        "print(xor.predict_proba(X))"
      ],
      "execution_count": 0,
      "outputs": [
        {
          "output_type": "stream",
          "text": [
            "_________________________________________________________________\n",
            "Layer (type)                 Output Shape              Param #   \n",
            "=================================================================\n",
            "dense_15 (Dense)             (None, 8)                 24        \n",
            "_________________________________________________________________\n",
            "activation_9 (Activation)    (None, 8)                 0         \n",
            "_________________________________________________________________\n",
            "dense_16 (Dense)             (None, 2)                 18        \n",
            "_________________________________________________________________\n",
            "activation_10 (Activation)   (None, 2)                 0         \n",
            "=================================================================\n",
            "Total params: 42\n",
            "Trainable params: 42\n",
            "Non-trainable params: 0\n",
            "_________________________________________________________________\n"
          ],
          "name": "stdout"
        },
        {
          "output_type": "stream",
          "text": [
            "/usr/local/lib/python3.6/dist-packages/ipykernel_launcher.py:37: UserWarning: The `nb_epoch` argument in `fit` has been renamed `epochs`.\n"
          ],
          "name": "stderr"
        },
        {
          "output_type": "stream",
          "text": [
            "\r4/4 [==============================] - 0s 20ms/step\n",
            "\n",
            "Accuracy:  0.625\n",
            "\n",
            "Predictions:\n",
            "[[0.48644072 0.45776862]\n",
            " [0.44134298 0.5203102 ]\n",
            " [0.57536    0.7141689 ]\n",
            " [0.5347951  0.75075674]]\n"
          ],
          "name": "stdout"
        }
      ]
    },
    {
      "metadata": {
        "id": "3cOgc5ZLhnwf",
        "colab_type": "code",
        "colab": {}
      },
      "cell_type": "code",
      "source": [
        ""
      ],
      "execution_count": 0,
      "outputs": []
    }
  ]
}